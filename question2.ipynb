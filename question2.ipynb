{
  "nbformat": 4,
  "nbformat_minor": 0,
  "metadata": {
    "colab": {
      "provenance": [],
      "mount_file_id": "1ksMQOXNxbROoniObsX2IdzbqqSl_GQrO",
      "authorship_tag": "ABX9TyMsc4fqlkS+IXkpbc7spAy4",
      "include_colab_link": true
    },
    "kernelspec": {
      "name": "python3",
      "display_name": "Python 3"
    },
    "language_info": {
      "name": "python"
    }
  },
  "cells": [
    {
      "cell_type": "markdown",
      "metadata": {
        "id": "view-in-github",
        "colab_type": "text"
      },
      "source": [
        "<a href=\"https://colab.research.google.com/github/srilaadebnath/ML_LAB_CODES/blob/main/question2.ipynb\" target=\"_parent\"><img src=\"https://colab.research.google.com/assets/colab-badge.svg\" alt=\"Open In Colab\"/></a>"
      ]
    },
    {
      "cell_type": "code",
      "execution_count": null,
      "metadata": {
        "id": "yWbDw8A6w7hW"
      },
      "outputs": [],
      "source": [
        "import numpy as np\n",
        "import pandas as pd\n",
        "import matplotlib.pyplot as plt\n",
        "from sklearn.model_selection import train_test_split, GridSearchCV\n",
        "from sklearn.linear_model import Lasso,Ridge\n",
        "from sklearn.metrics import mean_squared_error, r2_score, mean_absolute_error\n",
        "from sklearn.preprocessing import StandardScaler"
      ]
    },
    {
      "cell_type": "code",
      "source": [
        "data = pd.read_csv(\"housing_price_dataset.csv\")\n",
        "\n",
        "print(\"Dataset loaded successfully!\")\n",
        "print(\"Shape:\", data.shape)\n",
        "print(\"\\nFirst 5 rows:\")\n",
        "print(data.head())"
      ],
      "metadata": {
        "id": "jeB7KOp91Mfc",
        "outputId": "54ab5696-90a3-4deb-a497-c8a281b216d5",
        "colab": {
          "base_uri": "https://localhost:8080/"
        }
      },
      "execution_count": null,
      "outputs": [
        {
          "output_type": "stream",
          "name": "stdout",
          "text": [
            "Dataset loaded successfully!\n",
            "Shape: (5000, 7)\n",
            "\n",
            "First 5 rows:\n",
            "   Avg. Area Income  Avg. Area House Age  Avg. Area Number of Rooms  \\\n",
            "0      79545.458574             5.682861                   7.009188   \n",
            "1      79248.642455             6.002900                   6.730821   \n",
            "2      61287.067179             5.865890                   8.512727   \n",
            "3      63345.240046             7.188236                   5.586729   \n",
            "4      59982.197226             5.040555                   7.839388   \n",
            "\n",
            "   Avg. Area Number of Bedrooms  Area Population         Price  \\\n",
            "0                          4.09     23086.800503  1.059034e+06   \n",
            "1                          3.09     40173.072174  1.505891e+06   \n",
            "2                          5.13     36882.159400  1.058988e+06   \n",
            "3                          3.26     34310.242831  1.260617e+06   \n",
            "4                          4.23     26354.109472  6.309435e+05   \n",
            "\n",
            "                                             Address  \n",
            "0  208 Michael Ferry Apt. 674\\nLaurabury, NE 3701...  \n",
            "1  188 Johnson Views Suite 079\\nLake Kathleen, CA...  \n",
            "2  9127 Elizabeth Stravenue\\nDanieltown, WI 06482...  \n",
            "3                          USS Barnett\\nFPO AP 44820  \n",
            "4                         USNS Raymond\\nFPO AE 09386  \n"
          ]
        }
      ]
    },
    {
      "cell_type": "code",
      "source": [
        "print(\"\\nMissing values per column:\")\n",
        "print(data.isnull().sum())\n",
        "data = data.fillna(data.mean(numeric_only=True))"
      ],
      "metadata": {
        "id": "q-RgeIds1cj6",
        "colab": {
          "base_uri": "https://localhost:8080/"
        },
        "outputId": "e73df8e1-4806-41d1-bb6c-f5ff9bf7b4db"
      },
      "execution_count": null,
      "outputs": [
        {
          "output_type": "stream",
          "name": "stdout",
          "text": [
            "\n",
            "Missing values per column:\n",
            "Avg. Area Income                0\n",
            "Avg. Area House Age             0\n",
            "Avg. Area Number of Rooms       0\n",
            "Avg. Area Number of Bedrooms    0\n",
            "Area Population                 0\n",
            "Price                           0\n",
            "Address                         0\n",
            "dtype: int64\n"
          ]
        }
      ]
    },
    {
      "cell_type": "code",
      "source": [
        "X = data.drop(columns=[\"Price\"])\n",
        "y = data[\"Price\"]\n",
        "X_train, X_test, y_train, y_test = train_test_split(\n",
        "X, y, test_size=0.2, random_state=42\n",
        ")"
      ],
      "metadata": {
        "id": "fUFClUVa8D7V"
      },
      "execution_count": null,
      "outputs": []
    },
    {
      "cell_type": "code",
      "source": [
        "models = {\n",
        "\"Lasso\": (Lasso(max_iter=10000), {'alpha': [0.001, 0.01, 0.1, 1, 10]}),\n",
        "\"Ridge\": (Ridge(max_iter=10000), {'alpha': [0.001, 0.01, 0.1, 1, 10]})\n",
        "}"
      ],
      "metadata": {
        "id": "Dmmo2pW4WsyU"
      },
      "execution_count": null,
      "outputs": []
    },
    {
      "cell_type": "code",
      "source": [
        "X_train_num = X_train.select_dtypes(include=['int64', 'float64'])\n",
        "X_test_num = X_test.select_dtypes(include=['int64', 'float64'])\n",
        "\n",
        "scaler = StandardScaler()\n",
        "X_train_scaled = scaler.fit_transform(X_train_num)\n",
        "X_test_scaled = scaler.transform(X_test_num)"
      ],
      "metadata": {
        "id": "Dmw--EbxWxqE"
      },
      "execution_count": null,
      "outputs": []
    },
    {
      "cell_type": "code",
      "source": [
        "results = {}\n",
        "for name, (model, grid) in models.items():\n",
        "    search = GridSearchCV(model, grid, cv=5, scoring='r2')\n",
        "    search.fit(X_train_scaled, y_train)\n",
        "    best_model = search.best_estimator_\n",
        "    y_pred = best_model.predict(X_test_scaled)"
      ],
      "metadata": {
        "id": "jKrugY23YC-x"
      },
      "execution_count": null,
      "outputs": []
    },
    {
      "cell_type": "code",
      "source": [
        "r2 = r2_score(y_test, y_pred)\n",
        "mae = mean_absolute_error(y_test, y_pred)\n",
        "rmse = np.sqrt(mean_squared_error(y_test, y_pred))"
      ],
      "metadata": {
        "id": "x-CrlEnYYJQ6"
      },
      "execution_count": null,
      "outputs": []
    },
    {
      "cell_type": "code",
      "source": [
        "plt.figure(figsize=(8,5))\n",
        "for name, (y_pred, r2) in results.items():\n",
        "    plt.scatter(y_test, y_pred, alpha=0.5, label=f\"{name} (R²={r2:.3f})\")\n",
        "plt.plot([y_test.min(), y_test.max()], [y_test.min(), y_test.max()], 'k--', lw=2)\n",
        "plt.xlabel(\"Actual Price\")\n",
        "plt.ylabel(\"Predicted Price\")\n",
        "plt.title(\"Actual vs Predicted (Lasso vs Ridge)\")\n",
        "plt.legend()\n",
        "plt.grid(True)\n",
        "plt.show()"
      ],
      "metadata": {
        "colab": {
          "base_uri": "https://localhost:8080/",
          "height": 542
        },
        "id": "-Qf2XrmfSlpi",
        "outputId": "eeffea9e-6485-493c-ad2f-0aa37b016294"
      },
      "execution_count": null,
      "outputs": [
        {
          "output_type": "stream",
          "name": "stderr",
          "text": [
            "/tmp/ipython-input-1764472326.py:8: UserWarning: No artists with labels found to put in legend.  Note that artists whose label start with an underscore are ignored when legend() is called with no argument.\n",
            "  plt.legend()\n"
          ]
        },
        {
          "output_type": "display_data",
          "data": {
            "text/plain": [
              "<Figure size 800x500 with 1 Axes>"
            ],
            "image/png": "[encoded data removed]"
          },
          "metadata": {}
        }
      ]
    }
  ]
}